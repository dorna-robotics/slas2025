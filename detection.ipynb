{
 "cells": [
  {
   "cell_type": "code",
   "execution_count": 5,
   "metadata": {},
   "outputs": [
    {
     "data": {
      "application/vnd.jupyter.widget-view+json": {
       "model_id": "3f0bc7adbd814ddeb73d7d1199379b36",
       "version_major": 2,
       "version_minor": 0
      },
      "text/plain": [
       "VBox(children=(HBox(children=(Button(button_style='success', description='Capture Image', disabled=True, style…"
      ]
     },
     "metadata": {},
     "output_type": "display_data"
    },
    {
     "data": {
      "text/plain": [
       "'\\nroi and crop is necessary, \\ntiny_l for not seen data also not performing great,\\nuse tile in dataset and see the result is better with tiny and after that tiny_l???\\ntiny_l is performing better than tiny, it basically detects everything properly with roi\\n\\n'"
      ]
     },
     "execution_count": 5,
     "metadata": {},
     "output_type": "execute_result"
    },
    {
     "name": "stdout",
     "output_type": "stream",
     "text": [
      "list index out of range\n"
     ]
    }
   ],
   "source": [
    "# detection builder\n",
    "%matplotlib widget\n",
    "from dorna_vision import Detection_app\n",
    "x = Detection_app()\n",
    "# output/roi_1737775294.jpg not detected\n",
    "# output/roi_1737775399.jpg bad detection\n",
    "# output/roi_1737775352.jpg good detect with tiny_l and roi\n",
    "# output/roi_1737775382.jpg good with tiny_l\n",
    "# output/roi_1737775357.jpg not detecting a 15ml_tube with tiny_l but detects with roi and crop\n",
    "# output/roi_1737775401.jpg good with tiny_l and roi\n",
    "# output/roi_1737775405.jpg\n",
    "# output/roi_1737775542.jpg good with tiny_l and roi\n",
    "\"\"\"\n",
    "roi and crop is necessary, \n",
    "tiny_l for not seen data also not performing great,\n",
    "use tile in dataset and see the result is better with tiny and after that tiny_l???\n",
    "tiny_l is performing better than tiny, it basically detects everything properly with roi\n",
    "\n",
    "\"\"\"\n"
   ]
  },
  {
   "cell_type": "code",
   "execution_count": null,
   "metadata": {},
   "outputs": [],
   "source": [
    "import subprocess\n",
    "import re\n",
    "\n",
    "def get_realsense_devices():\n",
    "    try:\n",
    "        # Run the rs-enumerate-devices command\n",
    "        result = subprocess.run(['rs-enumerate-devices'], capture_output=True, text=True, check=True)\n",
    "        output = result.stdout\n",
    "        \n",
    "        # Split the output by device info blocks\n",
    "        devices = output.strip().split(\"Device info:\")\n",
    "        device_list = []\n",
    "        \n",
    "        for device in devices[1:]:  # Skip the first empty split\n",
    "            device_info = {}\n",
    "            for line in device.strip().split(\"\\n\"):\n",
    "                match = re.match(r'\\s*(.+?)\\s+:\\s+(.+)', line)\n",
    "                if match:\n",
    "                    key, value = match.groups()\n",
    "                    device_info[key.strip()] = value.strip()\n",
    "            device_list.append(device_info)\n",
    "        \n",
    "        return device_list\n",
    "    except subprocess.CalledProcessError as e:\n",
    "        print(f\"Error running rs-enumerate-devices: {e}\")\n",
    "        return []\n",
    "\n",
    "# Example usage\n",
    "devices = get_realsense_devices()\n",
    "print(devices)"
   ]
  },
  {
   "cell_type": "code",
   "execution_count": null,
   "metadata": {},
   "outputs": [],
   "source": [
    "import pyrealsense2 as rs\n",
    "\n",
    "ctx = rs.context()\n",
    "devices = ctx.query_devices()\n",
    "for dev in devices:\n",
    "    dev.hardware_reset()"
   ]
  },
  {
   "cell_type": "code",
   "execution_count": null,
   "metadata": {},
   "outputs": [],
   "source": [
    "import pyrealsense2 as rs\n",
    "\n",
    "def get_connected_cameras():\n",
    "    cameras = []\n",
    "    ctx = rs.context()\n",
    "    devices = ctx.query_devices()  # Get all connected devices\n",
    "    for dev in devices:\n",
    "        camera_info = {\n",
    "            \"serial_number\": dev.get_info(rs.camera_info.serial_number),\n",
    "            \"name\": dev.get_info(rs.camera_info.name),\n",
    "            \"product_line\": dev.get_info(rs.camera_info.product_line),\n",
    "            \"firmware_version\": dev.get_info(rs.camera_info.firmware_version)\n",
    "        }\n",
    "        cameras.append(camera_info)\n",
    "    return cameras\n",
    "\n",
    "# Example usage\n",
    "connected_cameras = get_connected_cameras()\n",
    "print(connected_cameras)"
   ]
  }
 ],
 "metadata": {
  "kernelspec": {
   "display_name": "Python 3",
   "language": "python",
   "name": "python3"
  },
  "language_info": {
   "codemirror_mode": {
    "name": "ipython",
    "version": 3
   },
   "file_extension": ".py",
   "mimetype": "text/x-python",
   "name": "python",
   "nbconvert_exporter": "python",
   "pygments_lexer": "ipython3",
   "version": "3.9.7"
  }
 },
 "nbformat": 4,
 "nbformat_minor": 2
}
